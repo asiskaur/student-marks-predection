{
 "cells": [
  {
   "cell_type": "code",
   "execution_count": 23,
   "metadata": {},
   "outputs": [],
   "source": [
    "import numpy as np \n",
    "import pandas as pd \n",
    "import seaborn as sns \n",
    "import matplotlib.pyplot as plt \n",
    "from sklearn import preprocessing, svm \n",
    "from sklearn.model_selection import train_test_split \n",
    "from sklearn.linear_model import LinearRegression "
   ]
  },
  {
   "cell_type": "code",
   "execution_count": 24,
   "metadata": {},
   "outputs": [
    {
     "name": "stdout",
     "output_type": "stream",
     "text": [
      "(395, 3)\n"
     ]
    },
    {
     "data": {
      "text/html": [
       "<div>\n",
       "<style scoped>\n",
       "    .dataframe tbody tr th:only-of-type {\n",
       "        vertical-align: middle;\n",
       "    }\n",
       "\n",
       "    .dataframe tbody tr th {\n",
       "        vertical-align: top;\n",
       "    }\n",
       "\n",
       "    .dataframe thead th {\n",
       "        text-align: right;\n",
       "    }\n",
       "</style>\n",
       "<table border=\"1\" class=\"dataframe\">\n",
       "  <thead>\n",
       "    <tr style=\"text-align: right;\">\n",
       "      <th></th>\n",
       "      <th>count</th>\n",
       "      <th>mean</th>\n",
       "      <th>std</th>\n",
       "      <th>min</th>\n",
       "      <th>25%</th>\n",
       "      <th>50%</th>\n",
       "      <th>75%</th>\n",
       "      <th>max</th>\n",
       "    </tr>\n",
       "  </thead>\n",
       "  <tbody>\n",
       "    <tr>\n",
       "      <th>G1</th>\n",
       "      <td>395.0</td>\n",
       "      <td>10.908861</td>\n",
       "      <td>3.319195</td>\n",
       "      <td>3.0</td>\n",
       "      <td>8.0</td>\n",
       "      <td>11.0</td>\n",
       "      <td>13.0</td>\n",
       "      <td>19.0</td>\n",
       "    </tr>\n",
       "    <tr>\n",
       "      <th>G2</th>\n",
       "      <td>395.0</td>\n",
       "      <td>10.713924</td>\n",
       "      <td>3.761505</td>\n",
       "      <td>0.0</td>\n",
       "      <td>9.0</td>\n",
       "      <td>11.0</td>\n",
       "      <td>13.0</td>\n",
       "      <td>19.0</td>\n",
       "    </tr>\n",
       "    <tr>\n",
       "      <th>G3</th>\n",
       "      <td>395.0</td>\n",
       "      <td>10.415190</td>\n",
       "      <td>4.581443</td>\n",
       "      <td>0.0</td>\n",
       "      <td>8.0</td>\n",
       "      <td>11.0</td>\n",
       "      <td>14.0</td>\n",
       "      <td>20.0</td>\n",
       "    </tr>\n",
       "  </tbody>\n",
       "</table>\n",
       "</div>"
      ],
      "text/plain": [
       "    count       mean       std  min  25%   50%   75%   max\n",
       "G1  395.0  10.908861  3.319195  3.0  8.0  11.0  13.0  19.0\n",
       "G2  395.0  10.713924  3.761505  0.0  9.0  11.0  13.0  19.0\n",
       "G3  395.0  10.415190  4.581443  0.0  8.0  11.0  14.0  20.0"
      ]
     },
     "execution_count": 24,
     "metadata": {},
     "output_type": "execute_result"
    }
   ],
   "source": [
    "df = pd.read_csv('a - Sheet1.csv') \n",
    "print(df.shape)\n",
    "df.describe().transpose()"
   ]
  },
  {
   "cell_type": "code",
   "execution_count": 17,
   "metadata": {},
   "outputs": [
    {
     "name": "stdout",
     "output_type": "stream",
     "text": [
      "     G1  G2  G3\n",
      "0     5   6   6\n",
      "1     5   5   6\n",
      "2     7   8  10\n",
      "3    15  14  15\n",
      "4     6  10  10\n",
      "..   ..  ..  ..\n",
      "390   9   9   9\n",
      "391  14  16  16\n",
      "392  10   8   7\n",
      "393  11  12  10\n",
      "394   8   9   9\n",
      "\n",
      "[395 rows x 3 columns]\n"
     ]
    }
   ],
   "source": [
    "print(df)\n"
   ]
  },
  {
   "cell_type": "code",
   "execution_count": 25,
   "metadata": {},
   "outputs": [
    {
     "ename": "ValueError",
     "evalue": "Length mismatch: Expected axis has 3 elements, new values have 2 elements",
     "output_type": "error",
     "traceback": [
      "\u001b[1;31m---------------------------------------------------------------------------\u001b[0m",
      "\u001b[1;31mValueError\u001b[0m                                Traceback (most recent call last)",
      "\u001b[1;32m<ipython-input-25-8a402ded55d2>\u001b[0m in \u001b[0;36m<module>\u001b[1;34m\u001b[0m\n\u001b[1;32m----> 1\u001b[1;33m \u001b[0mdf\u001b[0m\u001b[1;33m.\u001b[0m\u001b[0mcolumns\u001b[0m \u001b[1;33m=\u001b[0m \u001b[1;33m[\u001b[0m\u001b[1;34m'G1'\u001b[0m\u001b[1;33m,\u001b[0m \u001b[1;34m'G2'\u001b[0m\u001b[1;33m]\u001b[0m\u001b[1;33m\u001b[0m\u001b[1;33m\u001b[0m\u001b[0m\n\u001b[0m",
      "\u001b[1;32m~\\anaconda3\\lib\\site-packages\\pandas\\core\\generic.py\u001b[0m in \u001b[0;36m__setattr__\u001b[1;34m(self, name, value)\u001b[0m\n\u001b[0;32m   5150\u001b[0m         \u001b[1;32mtry\u001b[0m\u001b[1;33m:\u001b[0m\u001b[1;33m\u001b[0m\u001b[1;33m\u001b[0m\u001b[0m\n\u001b[0;32m   5151\u001b[0m             \u001b[0mobject\u001b[0m\u001b[1;33m.\u001b[0m\u001b[0m__getattribute__\u001b[0m\u001b[1;33m(\u001b[0m\u001b[0mself\u001b[0m\u001b[1;33m,\u001b[0m \u001b[0mname\u001b[0m\u001b[1;33m)\u001b[0m\u001b[1;33m\u001b[0m\u001b[1;33m\u001b[0m\u001b[0m\n\u001b[1;32m-> 5152\u001b[1;33m             \u001b[1;32mreturn\u001b[0m \u001b[0mobject\u001b[0m\u001b[1;33m.\u001b[0m\u001b[0m__setattr__\u001b[0m\u001b[1;33m(\u001b[0m\u001b[0mself\u001b[0m\u001b[1;33m,\u001b[0m \u001b[0mname\u001b[0m\u001b[1;33m,\u001b[0m \u001b[0mvalue\u001b[0m\u001b[1;33m)\u001b[0m\u001b[1;33m\u001b[0m\u001b[1;33m\u001b[0m\u001b[0m\n\u001b[0m\u001b[0;32m   5153\u001b[0m         \u001b[1;32mexcept\u001b[0m \u001b[0mAttributeError\u001b[0m\u001b[1;33m:\u001b[0m\u001b[1;33m\u001b[0m\u001b[1;33m\u001b[0m\u001b[0m\n\u001b[0;32m   5154\u001b[0m             \u001b[1;32mpass\u001b[0m\u001b[1;33m\u001b[0m\u001b[1;33m\u001b[0m\u001b[0m\n",
      "\u001b[1;32mpandas\\_libs\\properties.pyx\u001b[0m in \u001b[0;36mpandas._libs.properties.AxisProperty.__set__\u001b[1;34m()\u001b[0m\n",
      "\u001b[1;32m~\\anaconda3\\lib\\site-packages\\pandas\\core\\generic.py\u001b[0m in \u001b[0;36m_set_axis\u001b[1;34m(self, axis, labels)\u001b[0m\n\u001b[0;32m    562\u001b[0m     \u001b[1;32mdef\u001b[0m \u001b[0m_set_axis\u001b[0m\u001b[1;33m(\u001b[0m\u001b[0mself\u001b[0m\u001b[1;33m,\u001b[0m \u001b[0maxis\u001b[0m\u001b[1;33m:\u001b[0m \u001b[0mint\u001b[0m\u001b[1;33m,\u001b[0m \u001b[0mlabels\u001b[0m\u001b[1;33m:\u001b[0m \u001b[0mIndex\u001b[0m\u001b[1;33m)\u001b[0m \u001b[1;33m->\u001b[0m \u001b[1;32mNone\u001b[0m\u001b[1;33m:\u001b[0m\u001b[1;33m\u001b[0m\u001b[1;33m\u001b[0m\u001b[0m\n\u001b[0;32m    563\u001b[0m         \u001b[0mlabels\u001b[0m \u001b[1;33m=\u001b[0m \u001b[0mensure_index\u001b[0m\u001b[1;33m(\u001b[0m\u001b[0mlabels\u001b[0m\u001b[1;33m)\u001b[0m\u001b[1;33m\u001b[0m\u001b[1;33m\u001b[0m\u001b[0m\n\u001b[1;32m--> 564\u001b[1;33m         \u001b[0mself\u001b[0m\u001b[1;33m.\u001b[0m\u001b[0m_mgr\u001b[0m\u001b[1;33m.\u001b[0m\u001b[0mset_axis\u001b[0m\u001b[1;33m(\u001b[0m\u001b[0maxis\u001b[0m\u001b[1;33m,\u001b[0m \u001b[0mlabels\u001b[0m\u001b[1;33m)\u001b[0m\u001b[1;33m\u001b[0m\u001b[1;33m\u001b[0m\u001b[0m\n\u001b[0m\u001b[0;32m    565\u001b[0m         \u001b[0mself\u001b[0m\u001b[1;33m.\u001b[0m\u001b[0m_clear_item_cache\u001b[0m\u001b[1;33m(\u001b[0m\u001b[1;33m)\u001b[0m\u001b[1;33m\u001b[0m\u001b[1;33m\u001b[0m\u001b[0m\n\u001b[0;32m    566\u001b[0m \u001b[1;33m\u001b[0m\u001b[0m\n",
      "\u001b[1;32m~\\anaconda3\\lib\\site-packages\\pandas\\core\\internals\\managers.py\u001b[0m in \u001b[0;36mset_axis\u001b[1;34m(self, axis, new_labels)\u001b[0m\n\u001b[0;32m    224\u001b[0m \u001b[1;33m\u001b[0m\u001b[0m\n\u001b[0;32m    225\u001b[0m         \u001b[1;32mif\u001b[0m \u001b[0mnew_len\u001b[0m \u001b[1;33m!=\u001b[0m \u001b[0mold_len\u001b[0m\u001b[1;33m:\u001b[0m\u001b[1;33m\u001b[0m\u001b[1;33m\u001b[0m\u001b[0m\n\u001b[1;32m--> 226\u001b[1;33m             raise ValueError(\n\u001b[0m\u001b[0;32m    227\u001b[0m                 \u001b[1;34mf\"Length mismatch: Expected axis has {old_len} elements, new \"\u001b[0m\u001b[1;33m\u001b[0m\u001b[1;33m\u001b[0m\u001b[0m\n\u001b[0;32m    228\u001b[0m                 \u001b[1;34mf\"values have {new_len} elements\"\u001b[0m\u001b[1;33m\u001b[0m\u001b[1;33m\u001b[0m\u001b[0m\n",
      "\u001b[1;31mValueError\u001b[0m: Length mismatch: Expected axis has 3 elements, new values have 2 elements"
     ]
    }
   ],
   "source": [
    "df.columns = ['G1', 'G2']"
   ]
  },
  {
   "cell_type": "code",
   "execution_count": 19,
   "metadata": {},
   "outputs": [
    {
     "name": "stdout",
     "output_type": "stream",
     "text": [
      "(316, 2)\n",
      "(79, 2)\n"
     ]
    }
   ],
   "source": [
    "X = df[predictors].values\n",
    "y = df[target_column].values\n",
    "\n",
    "X_train, X_test, y_train, y_test = train_test_split(X, y, test_size=0.20, random_state=45)\n",
    "print(X_train.shape); print(X_test.shape)\n",
    "\n"
   ]
  },
  {
   "cell_type": "code",
   "execution_count": 20,
   "metadata": {},
   "outputs": [
    {
     "name": "stderr",
     "output_type": "stream",
     "text": [
      "C:\\Users\\bawej\\anaconda3\\lib\\site-packages\\sklearn\\neural_network\\_multilayer_perceptron.py:582: ConvergenceWarning: Stochastic Optimizer: Maximum iterations (1000) reached and the optimization hasn't converged yet.\n",
      "  warnings.warn(\n"
     ]
    }
   ],
   "source": [
    "from sklearn.neural_network import MLPClassifier\n",
    "\n",
    "mlp = MLPClassifier(hidden_layer_sizes=(5,8,5), activation='relu', solver='adam', max_iter=1000)\n",
    "mlp.fit(X_train,y_train.ravel())\n",
    "\n",
    "predict_train = mlp.predict(X_train)\n",
    "predict_test = mlp.predict(X_test)"
   ]
  },
  {
   "cell_type": "code",
   "execution_count": 21,
   "metadata": {},
   "outputs": [
    {
     "name": "stdout",
     "output_type": "stream",
     "text": [
      "[[20  0  0  0  0  3  0  5  0  0  0  0  0  0  0  0  0  0]\n",
      " [ 1  0  0  0  0  0  0  0  0  0  0  0  0  0  0  0  0  0]\n",
      " [ 5  0  0  0  0  0  0  0  0  0  0  0  0  0  0  0  0  0]\n",
      " [12  0  0  0  0  0  0  0  0  0  0  0  0  0  0  0  0  0]\n",
      " [ 6  0  0  0  0  3  0  0  0  0  0  0  0  0  0  0  0  0]\n",
      " [ 7  0  0  0  0  9  0  9  0  0  0  0  0  0  0  0  0  0]\n",
      " [ 2  0  0  0  0  4  0 16  0  0  0  0  0  0  0  0  0  0]\n",
      " [ 0  0  0  0  0  4  0 33  7  0  0  0  0  0  0  0  0  0]\n",
      " [ 0  0  0  0  0  1  0 10 26  1  1  0  0  0  0  0  0  0]\n",
      " [ 0  0  0  0  0  0  0  1 10  5  5  0  0  0  0  0  0  0]\n",
      " [ 0  0  0  0  0  0  0  0  5  2 16  3  0  0  0  0  0  0]\n",
      " [ 0  0  0  0  0  0  0  0  0  0  7 12  1  0  0  0  0  0]\n",
      " [ 0  0  0  0  0  0  0  0  0  0  1  3 23  3  0  0  0  0]\n",
      " [ 0  0  0  0  0  0  0  0  0  0  0  0 11  4  0  0  0  0]\n",
      " [ 0  0  0  0  0  0  0  0  0  0  0  0  0  2  0  3  0  0]\n",
      " [ 0  0  0  0  0  0  0  0  0  0  0  0  0  1  0  7  0  0]\n",
      " [ 0  0  0  0  0  0  0  0  0  0  0  0  0  0  0  5  0  0]\n",
      " [ 0  0  0  0  0  0  0  0  0  0  0  0  0  0  0  1  0  0]]\n",
      "              precision    recall  f1-score   support\n",
      "\n",
      "           0       0.38      0.71      0.49        28\n",
      "           4       0.00      0.00      0.00         1\n",
      "           5       0.00      0.00      0.00         5\n",
      "           6       0.00      0.00      0.00        12\n",
      "           7       0.00      0.00      0.00         9\n",
      "           8       0.38      0.36      0.37        25\n",
      "           9       0.00      0.00      0.00        22\n",
      "          10       0.45      0.75      0.56        44\n",
      "          11       0.54      0.67      0.60        39\n",
      "          12       0.62      0.24      0.34        21\n",
      "          13       0.53      0.62      0.57        26\n",
      "          14       0.67      0.60      0.63        20\n",
      "          15       0.66      0.77      0.71        30\n",
      "          16       0.40      0.27      0.32        15\n",
      "          17       0.00      0.00      0.00         5\n",
      "          18       0.44      0.88      0.58         8\n",
      "          19       0.00      0.00      0.00         5\n",
      "          20       0.00      0.00      0.00         1\n",
      "\n",
      "    accuracy                           0.49       316\n",
      "   macro avg       0.28      0.33      0.29       316\n",
      "weighted avg       0.41      0.49      0.43       316\n",
      "\n"
     ]
    },
    {
     "name": "stderr",
     "output_type": "stream",
     "text": [
      "C:\\Users\\bawej\\anaconda3\\lib\\site-packages\\sklearn\\metrics\\_classification.py:1221: UndefinedMetricWarning: Precision and F-score are ill-defined and being set to 0.0 in labels with no predicted samples. Use `zero_division` parameter to control this behavior.\n",
      "  _warn_prf(average, modifier, msg_start, len(result))\n"
     ]
    }
   ],
   "source": [
    "from sklearn.metrics import classification_report,confusion_matrix\n",
    "print(confusion_matrix(y_train,predict_train))\n",
    "print(classification_report(y_train,predict_train))"
   ]
  },
  {
   "cell_type": "code",
   "execution_count": 22,
   "metadata": {},
   "outputs": [
    {
     "name": "stdout",
     "output_type": "stream",
     "text": [
      "[[ 7  0  0  1  0  2  0  0  0  0  0  0  0  0]\n",
      " [ 2  0  0  0  0  0  0  0  0  0  0  0  0  0]\n",
      " [ 2  0  0  1  0  0  0  0  0  0  0  0  0  0]\n",
      " [ 1  0  0  5  0  1  0  0  0  0  0  0  0  0]\n",
      " [ 0  0  0  1  0  4  1  0  0  0  0  0  0  0]\n",
      " [ 0  0  0  0  0 10  2  0  0  0  0  0  0  0]\n",
      " [ 0  0  0  1  0  1  5  1  0  0  0  0  0  0]\n",
      " [ 0  0  0  0  0  1  4  3  2  0  0  0  0  0]\n",
      " [ 0  0  0  0  0  0  1  0  4  0  0  0  0  0]\n",
      " [ 0  0  0  0  0  0  1  0  4  2  0  0  0  0]\n",
      " [ 0  0  0  0  0  0  0  0  0  2  1  0  0  0]\n",
      " [ 0  0  0  0  0  0  0  0  0  0  0  1  0  0]\n",
      " [ 0  0  0  0  0  0  0  0  0  0  1  0  0  0]\n",
      " [ 0  0  0  0  0  0  0  0  0  0  0  0  0  4]]\n",
      "              precision    recall  f1-score   support\n",
      "\n",
      "           0       0.58      0.70      0.64        10\n",
      "           5       0.00      0.00      0.00         2\n",
      "           6       0.00      0.00      0.00         3\n",
      "           8       0.56      0.71      0.63         7\n",
      "           9       0.00      0.00      0.00         6\n",
      "          10       0.53      0.83      0.65        12\n",
      "          11       0.36      0.62      0.45         8\n",
      "          12       0.75      0.30      0.43        10\n",
      "          13       0.40      0.80      0.53         5\n",
      "          14       0.50      0.29      0.36         7\n",
      "          15       0.50      0.33      0.40         3\n",
      "          16       1.00      1.00      1.00         1\n",
      "          17       0.00      0.00      0.00         1\n",
      "          18       1.00      1.00      1.00         4\n",
      "\n",
      "    accuracy                           0.53        79\n",
      "   macro avg       0.44      0.47      0.43        79\n",
      "weighted avg       0.49      0.53      0.48        79\n",
      "\n"
     ]
    }
   ],
   "source": [
    "print(confusion_matrix(y_test,predict_test))\n",
    "print(classification_report(y_test,predict_test))"
   ]
  },
  {
   "cell_type": "code",
   "execution_count": 1,
   "metadata": {},
   "outputs": [],
   "source": [
    "from tkinter import *\n",
    "from tkinter import messagebox #Always import messagebox seperately as it a sub module\n",
    "top = Tk()\n",
    "\n",
    "L1 = Label(top, text=\"ST_Name\") \n",
    "L1.grid(row = 1, column = 1)\n",
    "E1 = Entry(top, bd =5) #Attach text box to root frame. bd refers size of the border. default is 2 pixels\n",
    "E1.grid(row = 1, column = 2)\n",
    "\n",
    "L2 = Label(top, text=\"Mark 1\") \n",
    "L2.grid(row = 2, column = 1) \n",
    "E2 = Entry(top, bd =5) \n",
    "E2.grid(row = 2, column = 2)\n",
    "\n",
    "L3 = Label(top, text=\"Mark 2\") \n",
    "L3.grid(row = 3, column = 1) \n",
    "E3 = Entry(top, bd =5) \n",
    "E3.grid(row = 3, column = 2)\n",
    "\n",
    "L4 = Label(top, text=\"Mark 3\") \n",
    "L4.grid(row = 4, column = 1)\n",
    "E4 = Entry(top, bd =5) \n",
    "E4.grid(row = 4, column = 2)\n",
    "\n",
    "\n",
    "def disp():\n",
    "    m1 = int(E2.get())\n",
    "    m2 = int(E3.get())\n",
    "    m3 = int(E4.get())\n",
    "    avg = (m1+m2+m3)/3\n",
    "    if avg > 90:\n",
    "        grd = \"A\"\n",
    "    elif avg >=80 and avg <= 89:\n",
    "        grd = \"C\"\n",
    "    elif avg >=70 and avg <= 79:\n",
    "        grd = \"C\"\n",
    "    elif avg >=60 and avg <= 69:\n",
    "        grd = \"D\"\n",
    "    elif avg >=50 and avg <= 59:\n",
    "        grd = \"E\"\n",
    "    else:\n",
    "        grd = \"Fail\"\n",
    "    messagebox.showinfo(\"Your grade is\",grd)\n",
    "    \n",
    "B1 = Button(top, text=\"display\", command=disp)\n",
    "B1.grid(row = 5, column = 2)\n",
    "\n",
    "top.mainloop()\n"
   ]
  },
  {
   "cell_type": "code",
   "execution_count": null,
   "metadata": {},
   "outputs": [],
   "source": []
  }
 ],
 "metadata": {
  "kernelspec": {
   "display_name": "Python 3",
   "language": "python",
   "name": "python3"
  },
  "language_info": {
   "codemirror_mode": {
    "name": "ipython",
    "version": 3
   },
   "file_extension": ".py",
   "mimetype": "text/x-python",
   "name": "python",
   "nbconvert_exporter": "python",
   "pygments_lexer": "ipython3",
   "version": "3.8.5"
  }
 },
 "nbformat": 4,
 "nbformat_minor": 4
}
